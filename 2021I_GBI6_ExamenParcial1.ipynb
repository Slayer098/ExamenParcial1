{
 "cells": [
  {
   "cell_type": "markdown",
   "metadata": {},
   "source": [
    "<img src=\"https://www.ikiam.edu.ec/img/logo-ikiam-grey.png\" width=300 height=240 />\n",
    "\n",
    "# EXAMEN PARCIAL 1\n",
    "\n",
    "## GBI6-2021II: BIOINFORMÁTICA\n",
    "\n",
    "**Yumbo Licuy, Anderson Randy** <--- CAMBIE POR LOS QUE CORRESPONDA A SUS DATOS\n",
    "\n",
    "**11-01-2021**"
   ]
  },
  {
   "cell_type": "markdown",
   "metadata": {},
   "source": [
    "<font color='red'>NO AGREGUE NUEVAS CELDAS, UTILICE ÚNICAMENTE LAS QUE ESTÁN CREADAS</font>"
   ]
  },
  {
   "cell_type": "markdown",
   "metadata": {},
   "source": [
    "# 1. UNIX\n",
    "\n",
    "## Ejercicio 1\n",
    "Seleccione la opción el código que imprime el texto: Hola GBI6\n",
    "\n",
    "<img src=\"./Ejercicio1.jpeg\" width=600 height=450 />\n",
    "\n",
    "\n",
    "\n",
    "\n",
    "### Explicacion:\n",
    "\n",
    "Entre al git bash y entre a mi directorio, para imprimir  Hola GBI6 con el comando echo \"Hola GBI6\" de esta manera resuelvo el ejercicio1.\n",
    "\n",
    "\n",
    "## Ejercicio 2\n",
    "Para esta pregunta debe realizar previamente lo siguiente: \n",
    "\n",
    "- Imprimir el directorio de trabajo actual \n",
    "- Crear un directorio test1\n",
    "- No cambie de directorio, pero los items 4, 5 y 6 deben guardarse en el directorio creado en el paso 2. \n",
    "- Crear el archivo test1.txt\n",
    "- Guardar el texto Hola GBI6 en un archivo test2.txt\n",
    "- Guardar la instrucción print(\"Hola GBI6\")  en el archivo test1.py\n",
    "\n",
    "<img src=\"./Ejercicio2.jpeg\" width=600 height=450 />\n",
    "\n",
    "Luego seleccione la instrucción que imprima el número de caracteres de test2.txt:\n",
    "\n",
    "<img src=\"./Ejercicio2.1.jpeg\" width=600 height=450 />\n",
    "\n",
    "### Explicacion: \n",
    "Primero imprimi el directorio actual usando el comando pwd, cree un directorio llamado test1 usando el comando mkdir test1.Cree el archivo test1.txt en el directorio test1 con el comando touch test1/test1.txt,tambien cree el test2.txt y guadre el texto Hola GBI6 en test2.txt usando el comando echo \"Hola GBI6\" > test1/test2.txt.Finalmente cree el archico test1.py con el comando touch test1/test1.py para abrir con nano y guardar el texto print(\"Hola GBI6\") e imprimi usando cat tes1/tet1.py. Para imprimir los caracteres use el comando cat tes1/test1.py\n",
    "\n",
    "\n",
    "\n",
    "\n",
    "\n",
    "## Ejercicio 3\n",
    "Seleccione la opción de código que imprime el directorio de trabajo actual\n",
    "\n",
    "\n",
    "<img src=\"./Ejercicio3.jpeg\" width=600 height=450 />\n",
    "\n",
    "### Explicacion \n",
    "Para imprimir el directorio se usa el comando pwd en el git bash\n",
    "\n",
    "\n",
    "\n",
    "## Ejecicio 4\n",
    "Resuelva el ejercicio 1.10.3 Plant–Pollinator Networks.\n",
    "\n",
    "Para esto siga los siguientes instrucciones:\n",
    "\n",
    "- Resuelva el ejercicio en un documento de nombre ejercicio_1103.sh\n",
    "- Cargue el documento ejercicio_1103.sh en GitHub utilizando git push. \n",
    "- Realice el video explicativo de la resolución ejercicio y guarde en YouTube en formato \"Público\" o \"Unlisted\", y pegue el   enlace en el cuaderno de Jupyter\n",
    "\n",
    "### Realizar un video explicativo"
   ]
  },
  {
   "cell_type": "code",
   "execution_count": 9,
   "metadata": {},
   "outputs": [
    {
     "name": "stderr",
     "output_type": "stream",
     "text": [
      "C:\\Users\\Anderson\\anaconda3\\lib\\site-packages\\IPython\\core\\display.py:717: UserWarning: Consider using IPython.display.IFrame instead\n",
      "  warnings.warn(\"Consider using IPython.display.IFrame instead\")\n"
     ]
    },
    {
     "data": {
      "text/html": [
       "<iframe width=\"560\" height=\"315\" src=\"https://www.youtube.com/embed/3XlZWpLwvvo\" title=\"YouTube video player\" frameborder=\"0\" allow=\"accelerometer; autoplay; clipboard-write; encrypted-media; gyroscope; picture-in-picture\" allowfullscreen></iframe>"
      ],
      "text/plain": [
       "<IPython.core.display.HTML object>"
      ]
     },
     "execution_count": 9,
     "metadata": {},
     "output_type": "execute_result"
    }
   ],
   "source": [
    "# Coloque aquí su video del ejercicio 4\n",
    "from IPython.display import HTML\n",
    "HTML('<iframe width=\"560\" height=\"315\" src=\"https://www.youtube.com/embed/3XlZWpLwvvo\" title=\"YouTube video player\" frameborder=\"0\" allow=\"accelerometer; autoplay; clipboard-write; encrypted-media; gyroscope; picture-in-picture\" allowfullscreen></iframe>')\n"
   ]
  },
  {
   "cell_type": "markdown",
   "metadata": {},
   "source": [
    "### Explicación:\n",
    "\n",
    "Los codigos los subi a nano, dentro del nano puse la funcion de cada comando para ejecutar la solucion.\n",
    "\n",
    "## Ejercicio 5\n",
    "Escriba aquí el enunciado\n"
   ]
  },
  {
   "cell_type": "code",
   "execution_count": 2,
   "metadata": {},
   "outputs": [
    {
     "data": {
      "text/html": [
       "<iframe width=\"560\" height=\"315\" src=\"https://www.youtube.com/embed/3XlZWpLwvvo\" title=\"YouTube video player\" frameborder=\"0\" allow=\"accelerometer; autoplay; clipboard-write; encrypted-media; gyroscope; picture-in-picture\" allowfullscreen></iframe>"
      ],
      "text/plain": [
       "<IPython.core.display.HTML object>"
      ]
     },
     "execution_count": 2,
     "metadata": {},
     "output_type": "execute_result"
    }
   ],
   "source": [
    "# Coloque aquí su video del ejercicio 5\n",
    "from IPython.display import HTML\n",
    "HTML('<iframe width=\"560\" height=\"315\" src=\"https://www.youtube.com/embed/3XlZWpLwvvo\" title=\"YouTube video player\" frameborder=\"0\" allow=\"accelerometer; autoplay; clipboard-write; encrypted-media; gyroscope; picture-in-picture\" allowfullscreen></iframe>')\n"
   ]
  },
  {
   "cell_type": "markdown",
   "metadata": {
    "jp-MarkdownHeadingCollapsed": true,
    "tags": []
   },
   "source": [
    "Escriba aquí alguna explicación del ejercicio 5 si lo considera necesario (borre esta línea cuando finalice)\n",
    "\n",
    "# 2. CONTROL DE LA VERSIÓN\n",
    "## Pregunta 6\n",
    "1. Cree en GitHub un repositorio de nombre ```GBI6_ExamenParcial1```. \n",
    "2. Cree un archivo ```Readme.md``` que debe tener lo siguiente: \n",
    "- Datos personales\n",
    "- Características del computador\n",
    "- Programas utilizados\n",
    "- Explicación de la data utilizada\n",
    "\n",
    "\n",
    "## Pregunta 7\n",
    "1. Cada vez que resuelva un ejercicio (del 1 al 10), utilizando Git Bash, GitHub Desktop o Atom realice un *git push* con el mensaje: \n",
    "\n",
    "\n",
    "<font color='red'>Apellido Nombre ha resuelto el ejercicio 1</font> % Cambie con sus apellidos y nombres; y con el número de ejercicio que corresponda \n",
    "\n",
    "2. Coloque aquí las capturas de pantalla para cada git push realizado desde Git Bash, GitHub Desktop o Atom. \n",
    "\n",
    "- Control de versión ejercicio 1\n",
    "\n",
    "<img src=\"./Contro1.jpeg\" width=600 height=450 />\n",
    "\n",
    "- Control de versión ejercicio 2\n",
    "\n",
    "<img src=\"./Contro2.jpeg\" width=600 height=450 />\n",
    "\n",
    "- Control de versión ejercicio 3\n",
    "\n",
    "<img src=\"./contro3.jpeg\" width=600 height=450 />\n",
    "\n",
    "- Control de versión ejercicio 4\n",
    "\n",
    "<img src=\"./contro4.jpeg\" width=600 height=450 />\n",
    "\n",
    "- Control de versión ejercicio 5\n",
    "\n",
    "<img src=\"./contro5.jpeg\" width=600 height=450 />\n",
    "\n",
    "- Control de versión ejercicio 6\n",
    "\n",
    "<img src=\"./contro6.jpeg\" width=600 height=450 />\n",
    "\n",
    "- Control de versión ejercicio 7\n",
    "\n",
    "<img src=\"data/ejemplo_unix.jpg\" width=600 height=450 />\n",
    "\n",
    "- Control de versión ejercicio 8\n",
    "\n",
    "<img src=\"data/ejemplo_unix.jpg\" width=600 height=450 />\n",
    "\n",
    "- Control de versión ejercicio 9\n",
    "\n",
    "<img src=\"./control9.jpeg\" width=600 height=450 />\n",
    "\n",
    "- Control de versión ejercicio 10\n",
    "\n",
    "<img src=\"data/ejemplo_unix.jpg\" width=600 height=450 />\n",
    "\n",
    "\n",
    "3. Cree un directorio de nombre ```data``` donde deben estar guardados: (i) la data utilizada y (ii) las capturas de pantalla de los ejercicios 1 al 3 y los git push del ejercicio 1 al 10 (en total debe tener 13 imágenes). \n",
    "4. Inserte aquí el enlace de su repositorio (válido para el ejercicio 6 y 7): [GitHub Repository: GBI6_ExamenParcial1](https://github.com/gualapuromoises/2021_gbi6.git) (este enlace es de ejemplo)"
   ]
  },
  {
   "cell_type": "markdown",
   "metadata": {},
   "source": [
    "# 3. INTRODUCCIÓN A PYTHON\n",
    "\n",
    "## Ejercicio 8\n",
    "\n",
    "### Para este ejercicio tiene que crear previamente lo siguiente :\n",
    "\n",
    "- Una lista de nombre lista1 que tenga a las 10 primeras letras del alfabeto.\n",
    "- Colar los codigos "
   ]
  },
  {
   "cell_type": "code",
   "execution_count": 8,
   "metadata": {
    "scrolled": true
   },
   "outputs": [
    {
     "name": "stdout",
     "output_type": "stream",
     "text": [
      "['c', 'd', 'e']\n",
      "ikiam\n"
     ]
    },
    {
     "data": {
      "text/plain": [
       "11"
      ]
     },
     "execution_count": 8,
     "metadata": {},
     "output_type": "execute_result"
    }
   ],
   "source": [
    ">>> lista1 = [\"a\",\"b\",\"c\",\"d\",\"e\",\"f\",\"g\",\"h\",\"i\",\"j\"]\n",
    ">>> print(lista1[2:5])\n",
    ">>> lista1.append([\"gbi6\",\"bio1\",\"ikiam\"])\n",
    ">>> print(lista1[-1][-1])\n",
    ">>> len(lista1)\n",
    "\n"
   ]
  },
  {
   "cell_type": "markdown",
   "metadata": {},
   "source": [
    "## Ejercicio 9\n",
    "\n",
    "Escriba aquí el enunciado"
   ]
  },
  {
   "cell_type": "code",
   "execution_count": 11,
   "metadata": {},
   "outputs": [
    {
     "data": {
      "text/plain": [
       "('esta es la lista propiedades: ',\n",
       " [[1550, 1.34],\n",
       "  [1905, 1.76],\n",
       "  [1695, 2.26],\n",
       "  [3093, 5.2],\n",
       "  [1102, 2.32],\n",
       "  [1525, 3.25],\n",
       "  [1830, 3.96],\n",
       "  [1616, 4.12],\n",
       "  [1691, 5.12],\n",
       "  [1598, 5.0],\n",
       "  [2018, 7.34],\n",
       "  [1103, 4.57],\n",
       "  [1366, 5.81],\n",
       "  [1471, 6.22],\n",
       "  [1376, 6.89],\n",
       "  [1147, 5.85],\n",
       "  [1225, 6.48],\n",
       "  [1033, 5.76],\n",
       "  [1206, 7.38],\n",
       "  [1127, 9.36]])"
      ]
     },
     "execution_count": 11,
     "metadata": {},
     "output_type": "execute_result"
    }
   ],
   "source": [
    "dic_aminoacidos = {\n",
    "    \"Trp\": [1550, 1.34, ],\n",
    "    \"Cys\": [1905, 1.76, ],\n",
    "    \"His\": [1695, 2.26, ],\n",
    "    \"Arg\": [3093, 5.20, ],\n",
    "    \"Met\": [1102, 2.32, ],\n",
    "    \"Tyr\": [1525, 3.25, ],\n",
    "    \"Gln\": [1830, 3.96, ],\n",
    "    \"Phe\": [1616, 4.12, ],\n",
    "    \"Asp\": [1691, 5.12, ],\n",
    "    \"Pro\": [1598, 5.00, ],\n",
    "    \"Ala\": [2018, 7.34, ],\n",
    "    \"Asn\": [1103, 4.57, ],\n",
    "    \"Lys\": [1366, 5.81, ],\n",
    "    \"Glu\": [1471, 6.22, ],\n",
    "    \"Gly\": [1376, 6.89, ],\n",
    "    \"Thr\": [1147, 5.85, ],\n",
    "    \"Val\": [1225, 6.48, ],\n",
    "    \"Ile\": [1033, 5.76, ],\n",
    "    \"Ser\": [1206, 7.38, ],\n",
    "    \"Leu\": [1127, 9.36, ],   \n",
    "}\n",
    "\n",
    "(\"este es el diccionario dic_aminoacidos: \")\n",
    "(dic_aminoacidos) \n",
    "\n",
    "aminoacidos = list(dic_aminoacidos.keys()) \n",
    "()\n",
    "(\"esta es la lista aminoacidos: \", aminoacidos)\n",
    "propiedades = list(dic_aminoacidos.values()) \n",
    "()\n",
    "(\"esta es la lista propiedades: \", propiedades) \n"
   ]
  },
  {
   "cell_type": "markdown",
   "metadata": {},
   "source": [
    "## Ejercicio 10\n",
    "\n",
    "## Para este ejercicio tiene que crear previamente lo siguiente: \n",
    "En la data https://github.com/sap0408/mtcars/blob/master/mtcars.csv, seleccione los 10 primeros registros y cree una lista de nombre lista1.\n"
   ]
  },
  {
   "cell_type": "code",
   "execution_count": 5,
   "metadata": {},
   "outputs": [],
   "source": [
    "# Escriba aquí el código"
   ]
  }
 ],
 "metadata": {
  "kernelspec": {
   "display_name": "Python 3",
   "language": "python",
   "name": "python3"
  },
  "language_info": {
   "codemirror_mode": {
    "name": "ipython",
    "version": 3
   },
   "file_extension": ".py",
   "mimetype": "text/x-python",
   "name": "python",
   "nbconvert_exporter": "python",
   "pygments_lexer": "ipython3",
   "version": "3.8.8"
  },
  "latex_envs": {
   "LaTeX_envs_menu_present": true,
   "autoclose": false,
   "autocomplete": true,
   "bibliofile": "biblio.bib",
   "cite_by": "apalike",
   "current_citInitial": 1,
   "eqLabelWithNumbers": true,
   "eqNumInitial": 1,
   "hotkeys": {
    "equation": "Ctrl-E",
    "itemize": "Ctrl-I"
   },
   "labels_anchors": false,
   "latex_user_defs": false,
   "report_style_numbering": false,
   "user_envs_cfg": false
  },
  "toc": {
   "base_numbering": 1,
   "nav_menu": {},
   "number_sections": true,
   "sideBar": false,
   "skip_h1_title": false,
   "title_cell": "Table of Contents",
   "title_sidebar": "Contents",
   "toc_cell": false,
   "toc_position": {
    "height": "1152.67px",
    "left": "41px",
    "top": "110px",
    "width": "253.458px"
   },
   "toc_section_display": true,
   "toc_window_display": false
  },
  "varInspector": {
   "cols": {
    "lenName": 16,
    "lenType": 16,
    "lenVar": 40
   },
   "kernels_config": {
    "python": {
     "delete_cmd_postfix": "",
     "delete_cmd_prefix": "del ",
     "library": "var_list.py",
     "varRefreshCmd": "print(var_dic_list())"
    },
    "r": {
     "delete_cmd_postfix": ") ",
     "delete_cmd_prefix": "rm(",
     "library": "var_list.r",
     "varRefreshCmd": "cat(var_dic_list()) "
    }
   },
   "types_to_exclude": [
    "module",
    "function",
    "builtin_function_or_method",
    "instance",
    "_Feature"
   ],
   "window_display": false
  }
 },
 "nbformat": 4,
 "nbformat_minor": 4
}
